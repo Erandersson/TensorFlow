{
 "cells": [
  {
   "cell_type": "code",
   "execution_count": 1,
   "metadata": {
    "collapsed": true
   },
   "outputs": [
    {
     "ename": "ModuleNotFoundError",
     "evalue": "No module named 'configClassifier'",
     "output_type": "error",
     "traceback": [
      "\u001b[0;31m---------------------------------------------------------------------------\u001b[0m",
      "\u001b[0;31mModuleNotFoundError\u001b[0m                       Traceback (most recent call last)",
      "\u001b[0;32m/var/folders/88/xvwxrft15lq2lkj7lv12yvvw0000gn/T/ipykernel_17890/982937604.py\u001b[0m in \u001b[0;36m<module>\u001b[0;34m\u001b[0m\n\u001b[1;32m      1\u001b[0m \u001b[0;32mimport\u001b[0m \u001b[0mos\u001b[0m\u001b[0;34m\u001b[0m\u001b[0m\n\u001b[0;32m----> 2\u001b[0;31m \u001b[0;32mfrom\u001b[0m \u001b[0mconfigClassifier\u001b[0m \u001b[0;32mimport\u001b[0m \u001b[0;34m*\u001b[0m\u001b[0;34m\u001b[0m\u001b[0m\n\u001b[0m\u001b[1;32m      3\u001b[0m \u001b[0;32mfrom\u001b[0m \u001b[0mutilsClassifier\u001b[0m \u001b[0;32mimport\u001b[0m \u001b[0;34m*\u001b[0m\u001b[0;34m\u001b[0m\u001b[0m\n\u001b[1;32m      4\u001b[0m \u001b[0;34m\u001b[0m\u001b[0m\n\u001b[1;32m      5\u001b[0m \u001b[0;32mfrom\u001b[0m \u001b[0mtensorflow\u001b[0m\u001b[0;34m.\u001b[0m\u001b[0mcompat\u001b[0m\u001b[0;34m.\u001b[0m\u001b[0mv1\u001b[0m \u001b[0;32mimport\u001b[0m \u001b[0mConfigProto\u001b[0m\u001b[0;34m\u001b[0m\u001b[0m\n",
      "\u001b[0;31mModuleNotFoundError\u001b[0m: No module named 'configClassifier'"
     ]
    }
   ],
   "source": [
    "import os\n",
    "from configClassifier import *\n",
    "from utilsClassifier import *\n",
    "\n",
    "from tensorflow.compat.v1 import ConfigProto\n",
    "from tensorflow.compat.v1 import InteractiveSession\n",
    "import tensorflow as tf\n",
    "from tensorflow import keras \n",
    "from sklearn.metrics import confusion_matrix\n",
    "import seaborn as sns\n",
    "from datetime import datetime\n",
    "\n",
    "import pprint\n",
    "\n",
    "from keras.models import Sequential\n",
    "from keras.layers.normalization import BatchNormalization\n",
    "from keras.layers.convolutional import Conv2D\n",
    "from keras.layers.convolutional import MaxPooling2D\n",
    "from keras.layers.core import Activation\n",
    "from keras.layers.core import Flatten\n",
    "from keras.layers.core import Dropout\n",
    "from keras.layers.core import Dense\n",
    "from keras.preprocessing.image import ImageDataGenerator\n",
    "from keras.optimizers import Adam\n",
    "from keras.models import Model\n",
    "from keras.callbacks import TensorBoard\n"
   ]
  },
  {
   "cell_type": "code",
   "execution_count": 123,
   "metadata": {},
   "outputs": [],
   "source": [
    "# CNN to classify rgb images\n",
    "\n",
    "class ClassifierCNNModel():\n",
    "    def __init__(self, num_classes=10, batch_size=32, inputShape=(64,64,3), dropout_prob=0.25):\n",
    "        self.num_classes = num_classes\n",
    "        self.batch_size = batch_size\n",
    "        self.inputShape = inputShape\n",
    "        self.dropout_prob = dropout_prob\n",
    "\n",
    "    def create_model(self):\n",
    "        model = Sequential()\n",
    "\n",
    "        chanDim = -1\n",
    "        model.add(Conv2D(25, (3, 3), padding=\"same\",\n",
    "                         input_shape=self.inputShape))\n",
    "        model.add(Activation(\"relu\"))\n",
    "        model.add(BatchNormalization())\n",
    "        model.add(MaxPooling2D(pool_size=(3, 3)))\n",
    "        \n",
    "\n",
    "        model.add(Conv2D(50, (3, 3), padding=\"same\"))\n",
    "        model.add(BatchNormalization())\n",
    "        model.add(Activation(\"relu\"))\n",
    "        \n",
    "        model.add(MaxPooling2D(pool_size=(2, 2)))\n",
    "        model.add(Dropout(0.1))\n",
    "        \n",
    "        model.add(Conv2D(100, (3, 3), padding=\"same\"))\n",
    "        model.add(BatchNormalization())\n",
    "        model.add(Activation(\"relu\"))\n",
    "       \n",
    "        model.add(MaxPooling2D(pool_size=(2, 2)))\n",
    "        model.add(Dropout(0.1))\n",
    "\n",
    "        model.add(Flatten())\n",
    "        model.add(Dense(2048))\n",
    "        model.add(BatchNormalization())\n",
    "        model.add(Activation(\"relu\"))\n",
    "        \n",
    "        model.add(Dropout(0.1))\n",
    "        \n",
    "\n",
    "        # softmax classifier\n",
    "        model.add(Dense(self.num_classes))\n",
    "        model.add(Activation(\"softmax\"))\n",
    "     \n",
    "        return model\n",
    "\n",
    "    def display_activation(self, activations, col_size, row_size, act_index):\n",
    "        activation = activations[act_index]\n",
    "        activation_index = 0\n",
    "        fig, ax = plt.subplots(row_size, col_size, figsize=(row_size * 2.5, col_size * 1.5))\n",
    "        fig.suptitle(\"activations in layer \" + str(act_index+1))\n",
    "\n",
    "        for row in range(0, row_size):\n",
    "            for col in range(0, col_size):\n",
    "                ax[row][col].imshow(activation[0, :, :, activation_index], cmap='gray')\n",
    "                activation_index += 1\n",
    "        plt.show()"
   ]
  },
  {
   "cell_type": "code",
   "execution_count": 124,
   "metadata": {
    "collapsed": true
   },
   "outputs": [
    {
     "name": "stdout",
     "output_type": "stream",
     "text": [
      "{'training_data_dir': '../data/FlyingObjectDataset_10K/training', 'validation_data_dir': '../data/FlyingObjectDataset_10K/validation', 'testing_data_dir': '../data/FlyingObjectDataset_10K/testing', 'fineGrained': True, 'CLASSES': ['square_red', 'square_green', 'square_blue', 'square_yellow', 'triangle_red', 'triangle_green', 'triangle_blue', 'triangle_yellow', 'circular_red', 'circular_green', 'circular_blue', 'circular_yellow'], 'NUM_CLASS': 12, 'GPU': 1, 'DROPOUT_PROB': 0.5, 'IMAGE_WIDTH': 128, 'IMAGE_HEIGHT': 128, 'IMAGE_CHANNEL': 3, 'NUM_EPOCHS': 10, 'BATCH_SIZE': 32, 'LEARNING_RATE': 0.001, 'LR_DECAY_FACTOR': 0.1, 'PRINT_EVERY': 20, 'SAVE_EVERY': 1, 'DEBUG_MODE': True, 'DATA_AUGMENTATION': False}\n"
     ]
    }
   ],
   "source": [
    "image_shape = (64,64,3)\n",
    "modelObj = ClassifierCNNModel(num_classes=len(cfg.CLASSES), batch_size=cfg.BATCH_SIZE, inputShape=image_shape, dropout_prob=cfg.DROPOUT_PROB)\n",
    "model = modelObj.create_model()\n"
   ]
  },
  {
   "cell_type": "code",
   "execution_count": 129,
   "metadata": {
    "scrolled": true
   },
   "outputs": [
    {
     "name": "stdout",
     "output_type": "stream",
     "text": [
      "Model: \"sequential_15\"\n",
      "_________________________________________________________________\n",
      "Layer (type)                 Output Shape              Param #   \n",
      "=================================================================\n",
      "conv2d_38 (Conv2D)           (None, 128, 128, 25)      700       \n",
      "_________________________________________________________________\n",
      "activation_62 (Activation)   (None, 128, 128, 25)      0         \n",
      "_________________________________________________________________\n",
      "batch_normalization_47 (Batc (None, 128, 128, 25)      100       \n",
      "_________________________________________________________________\n",
      "max_pooling2d_35 (MaxPooling (None, 42, 42, 25)        0         \n",
      "_________________________________________________________________\n",
      "conv2d_39 (Conv2D)           (None, 42, 42, 50)        11300     \n",
      "_________________________________________________________________\n",
      "batch_normalization_48 (Batc (None, 42, 42, 50)        200       \n",
      "_________________________________________________________________\n",
      "activation_63 (Activation)   (None, 42, 42, 50)        0         \n",
      "_________________________________________________________________\n",
      "max_pooling2d_36 (MaxPooling (None, 21, 21, 50)        0         \n",
      "_________________________________________________________________\n",
      "dropout_27 (Dropout)         (None, 21, 21, 50)        0         \n",
      "_________________________________________________________________\n",
      "conv2d_40 (Conv2D)           (None, 21, 21, 100)       45100     \n",
      "_________________________________________________________________\n",
      "batch_normalization_49 (Batc (None, 21, 21, 100)       400       \n",
      "_________________________________________________________________\n",
      "activation_64 (Activation)   (None, 21, 21, 100)       0         \n",
      "_________________________________________________________________\n",
      "max_pooling2d_37 (MaxPooling (None, 10, 10, 100)       0         \n",
      "_________________________________________________________________\n",
      "dropout_28 (Dropout)         (None, 10, 10, 100)       0         \n",
      "_________________________________________________________________\n",
      "flatten_12 (Flatten)         (None, 10000)             0         \n",
      "_________________________________________________________________\n",
      "dense_24 (Dense)             (None, 2048)              20482048  \n",
      "_________________________________________________________________\n",
      "batch_normalization_50 (Batc (None, 2048)              8192      \n",
      "_________________________________________________________________\n",
      "activation_65 (Activation)   (None, 2048)              0         \n",
      "_________________________________________________________________\n",
      "dropout_29 (Dropout)         (None, 2048)              0         \n",
      "_________________________________________________________________\n",
      "dense_25 (Dense)             (None, 12)                24588     \n",
      "_________________________________________________________________\n",
      "activation_66 (Activation)   (None, 12)                0         \n",
      "=================================================================\n",
      "Total params: 20,572,628\n",
      "Trainable params: 20,568,182\n",
      "Non-trainable params: 4,446\n",
      "_________________________________________________________________\n"
     ]
    }
   ],
   "source": [
    "opt = tf.optimizers.SGD(0.05)\n",
    "model.compile(loss=keras.losses.categorical_crossentropy,\n",
    "              optimizer= opt, metrics=['accuracy'])\n",
    "model.summary()"
   ]
  },
  {
   "cell_type": "code",
   "execution_count": 1,
   "metadata": {
    "collapsed": true
   },
   "outputs": [
    {
     "ename": "NameError",
     "evalue": "name 'model' is not defined",
     "output_type": "error",
     "traceback": [
      "\u001b[0;31m---------------------------------------------------------------------------\u001b[0m",
      "\u001b[0;31mNameError\u001b[0m                                 Traceback (most recent call last)",
      "\u001b[0;32m/var/folders/88/xvwxrft15lq2lkj7lv12yvvw0000gn/T/ipykernel_17919/3435604348.py\u001b[0m in \u001b[0;36m<module>\u001b[0;34m\u001b[0m\n\u001b[1;32m      1\u001b[0m \u001b[0;31m#Train the model\u001b[0m\u001b[0;34m\u001b[0m\u001b[0;34m\u001b[0m\u001b[0m\n\u001b[1;32m      2\u001b[0m \u001b[0;34m\u001b[0m\u001b[0m\n\u001b[0;32m----> 3\u001b[0;31m history = model.fit(aug_train_batch_generator,\n\u001b[0m\u001b[1;32m      4\u001b[0m           \u001b[0mepochs\u001b[0m\u001b[0;34m=\u001b[0m\u001b[0;36m3\u001b[0m\u001b[0;34m,\u001b[0m\u001b[0;34m\u001b[0m\u001b[0m\n\u001b[1;32m      5\u001b[0m           \u001b[0mverbose\u001b[0m\u001b[0;34m=\u001b[0m\u001b[0;36m1\u001b[0m\u001b[0;34m,\u001b[0m\u001b[0;34m\u001b[0m\u001b[0m\n",
      "\u001b[0;31mNameError\u001b[0m: name 'model' is not defined"
     ]
    }
   ],
   "source": [
    "#Train the model\n",
    "\n",
    "history = model.fit(aug_train_batch_generator,\n",
    "          epochs=3,\n",
    "          verbose=1,\n",
    "          steps_per_epoch=(nbr_train_data//cfg.BATCH_SIZE), # total batch number\n",
    "          validation_steps=(nbr_valid_data // cfg.BATCH_SIZE), # total batch number\n",
    "          validation_data=aug_valid_batch_generator,\n",
    "          callbacks=[TensorBoard(log_dir=\"logs/{}\".format(datetime.now().strftime(\"%Y%m%d-%H%M%S\")), write_graph=True, write_images=False,\n",
    "                                 histogram_freq=0)])\n"
   ]
  },
  {
   "cell_type": "code",
   "execution_count": 132,
   "metadata": {},
   "outputs": [
    {
     "name": "stdout",
     "output_type": "stream",
     "text": [
      "69/69 [==============================] - 6s 86ms/step - loss: 0.7668 - accuracy: 0.7645\n",
      "Test Loss:  0.7668 Test Accuracy:  0.7645\n"
     ]
    }
   ],
   "source": [
    "# testing model\n",
    "test_result = model.evaluate(test_batch_generator,\n",
    "                                       steps=(nbr_test_data//cfg.BATCH_SIZE))\n",
    "test_loss = round(test_result[0], 4)\n",
    "test_acc = round(test_result[1], 4)\n",
    "print(\"Test Loss: \", str(test_loss), \"Test Accuracy: \", str(test_acc))"
   ]
  },
  {
   "cell_type": "code",
   "execution_count": 30,
   "metadata": {},
   "outputs": [
    {
     "data": {
      "image/png": "[encoded data removed]",
      "text/plain": [
       "<Figure size 720x576 with 2 Axes>"
      ]
     },
     "metadata": {
      "needs_background": "light"
     },
     "output_type": "display_data"
    }
   ],
   "source": [
    "#plot a confusion matrix showing the class-wise accuracies\n",
    "\n",
    "true_classes = []\n",
    "pred_classes = []\n",
    "for i in range(0, nbr_test_data//cfg.BATCH_SIZE +1):\n",
    "    t_data, t_label = next(test_batch_generator)\n",
    "    pred_labels = model.predict(t_data, batch_size=cfg.BATCH_SIZE)\n",
    "    pred_classes.extend(np.argmax(pred_labels, axis=1))\n",
    "    true_classes.extend(np.argmax(t_label, axis=1))\n",
    "#print (\" true classes: \" + str(len(true_classes))  + \" pred classes: \" + str(len(pred_classes)))\n",
    "confusion_mtx = confusion_matrix(np.array(true_classes), np.array(pred_classes))\n",
    "plt.figure(figsize=(10, 8))\n",
    "plt.title(\"normalized confusion matrix\")\n",
    "norm_confusion_mtx = 100* confusion_mtx.astype('float') / confusion_mtx.sum(axis=1)[:, np.newaxis]\n",
    "sns.heatmap(norm_confusion_mtx, annot=True, fmt=\"f\")\n",
    "plt.show()"
   ]
  }
 ],
 "metadata": {
  "kernelspec": {
   "display_name": "Python 3 (ipykernel)",
   "language": "python",
   "name": "python3"
  },
  "language_info": {
   "codemirror_mode": {
    "name": "ipython",
    "version": 3
   },
   "file_extension": ".py",
   "mimetype": "text/x-python",
   "name": "python",
   "nbconvert_exporter": "python",
   "pygments_lexer": "ipython3",
   "version": "3.7.0"
  }
 },
 "nbformat": 4,
 "nbformat_minor": 4
}
